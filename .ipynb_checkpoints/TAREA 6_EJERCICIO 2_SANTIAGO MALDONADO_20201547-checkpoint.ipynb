{
 "cells": [
  {
   "cell_type": "code",
   "execution_count": 1,
   "id": "71292adc",
   "metadata": {},
   "outputs": [],
   "source": [
    "# Ejercicio 2: "
   ]
  },
  {
   "cell_type": "code",
   "execution_count": 2,
   "id": "3476bea8",
   "metadata": {},
   "outputs": [],
   "source": [
    "strategy=['Rock','Paper','Scissors','Spock','Lizard']"
   ]
  },
  {
   "cell_type": "code",
   "execution_count": 3,
   "id": "4563d170",
   "metadata": {},
   "outputs": [],
   "source": [
    "from random import choice\n",
    "\n",
    "#simplest strategy: choose randomly\n",
    "choice(strategy);"
   ]
  },
  {
   "cell_type": "code",
   "execution_count": 4,
   "id": "78c3d941",
   "metadata": {},
   "outputs": [],
   "source": [
    "payoff={('Rock','Paper'):(0,1),\n",
    "        ('Rock','Scissors'):(1,0),\n",
    "        ('Rock','Spock'):(0,1),\n",
    "        ('Rock','Lizard'):(1,0),\n",
    "        ('Rock','Rock'):(0,0),\n",
    "        ('Paper','Rock'):(1,0),\n",
    "        ('Paper','Scissors'):(0,1),\n",
    "        ('Paper','Spock'):(1,0),\n",
    "        ('Paper','Lizard'):(0,1),\n",
    "        ('Paper','Paper'):(0,0),\n",
    "        ('Scissors','Paper'):(1,0),\n",
    "        ('Scissors','Rock'):(0,1),\n",
    "        ('Scissors','Spock'):(0,1),\n",
    "        ('Scissors','Lizard'):(1,0),\n",
    "        ('Scissors','Scissors'):(0,0),\n",
    "        ('Spock','Paper'):(0,1),\n",
    "        ('Spock','Scissors'):(1,0),\n",
    "        ('Spock','Rock'):(1,0),\n",
    "        ('Spock','Lizard'):(0,1),\n",
    "        ('Spock','Spock'):(0,0),\n",
    "        ('Lizard','Paper'):(1,0),\n",
    "        ('Lizard','Scissors'):(0,1),\n",
    "        ('Lizard','Rock'):(0,1),\n",
    "        ('Lizard','Spock'):(1,0),\n",
    "        ('Lizard','Lizard'):(0,0)}"
   ]
  },
  {
   "cell_type": "code",
   "execution_count": 5,
   "id": "deaea8a8",
   "metadata": {},
   "outputs": [],
   "source": [
    "# names of players\n",
    "names=['John','Mia','Peter','Michael','Elizabeth','Kate','Daniel','Mackenzie','Wilbur','Mary']"
   ]
  },
  {
   "cell_type": "code",
   "execution_count": 6,
   "id": "e4880e80",
   "metadata": {},
   "outputs": [],
   "source": [
    "# setting up players\n",
    "society=[{'name':n,'score':0,'strategy':None} for n in names]"
   ]
  },
  {
   "cell_type": "code",
   "execution_count": 7,
   "id": "31742f06",
   "metadata": {},
   "outputs": [
    {
     "data": {
      "text/plain": [
       "[{'name': 'John', 'score': 0, 'strategy': None},\n",
       " {'name': 'Mia', 'score': 0, 'strategy': None},\n",
       " {'name': 'Peter', 'score': 0, 'strategy': None},\n",
       " {'name': 'Michael', 'score': 0, 'strategy': None},\n",
       " {'name': 'Elizabeth', 'score': 0, 'strategy': None},\n",
       " {'name': 'Kate', 'score': 0, 'strategy': None},\n",
       " {'name': 'Daniel', 'score': 0, 'strategy': None},\n",
       " {'name': 'Mackenzie', 'score': 0, 'strategy': None},\n",
       " {'name': 'Wilbur', 'score': 0, 'strategy': None},\n",
       " {'name': 'Mary', 'score': 0, 'strategy': None}]"
      ]
     },
     "execution_count": 7,
     "metadata": {},
     "output_type": "execute_result"
    }
   ],
   "source": [
    "# each player a dict:\n",
    "society"
   ]
  },
  {
   "cell_type": "code",
   "execution_count": 8,
   "id": "31dfd946",
   "metadata": {},
   "outputs": [
    {
     "name": "stdout",
     "output_type": "stream",
     "text": [
      "({'name': 'John', 'score': 0, 'strategy': None}, {'name': 'Mia', 'score': 0, 'strategy': None})\n",
      "({'name': 'John', 'score': 0, 'strategy': None}, {'name': 'Peter', 'score': 0, 'strategy': None})\n",
      "({'name': 'John', 'score': 0, 'strategy': None}, {'name': 'Michael', 'score': 0, 'strategy': None})\n",
      "({'name': 'John', 'score': 0, 'strategy': None}, {'name': 'Elizabeth', 'score': 0, 'strategy': None})\n",
      "({'name': 'John', 'score': 0, 'strategy': None}, {'name': 'Kate', 'score': 0, 'strategy': None})\n",
      "({'name': 'John', 'score': 0, 'strategy': None}, {'name': 'Daniel', 'score': 0, 'strategy': None})\n",
      "({'name': 'John', 'score': 0, 'strategy': None}, {'name': 'Mackenzie', 'score': 0, 'strategy': None})\n",
      "({'name': 'John', 'score': 0, 'strategy': None}, {'name': 'Wilbur', 'score': 0, 'strategy': None})\n",
      "({'name': 'John', 'score': 0, 'strategy': None}, {'name': 'Mary', 'score': 0, 'strategy': None})\n",
      "({'name': 'Mia', 'score': 0, 'strategy': None}, {'name': 'Peter', 'score': 0, 'strategy': None})\n",
      "({'name': 'Mia', 'score': 0, 'strategy': None}, {'name': 'Michael', 'score': 0, 'strategy': None})\n",
      "({'name': 'Mia', 'score': 0, 'strategy': None}, {'name': 'Elizabeth', 'score': 0, 'strategy': None})\n",
      "({'name': 'Mia', 'score': 0, 'strategy': None}, {'name': 'Kate', 'score': 0, 'strategy': None})\n",
      "({'name': 'Mia', 'score': 0, 'strategy': None}, {'name': 'Daniel', 'score': 0, 'strategy': None})\n",
      "({'name': 'Mia', 'score': 0, 'strategy': None}, {'name': 'Mackenzie', 'score': 0, 'strategy': None})\n",
      "({'name': 'Mia', 'score': 0, 'strategy': None}, {'name': 'Wilbur', 'score': 0, 'strategy': None})\n",
      "({'name': 'Mia', 'score': 0, 'strategy': None}, {'name': 'Mary', 'score': 0, 'strategy': None})\n",
      "({'name': 'Peter', 'score': 0, 'strategy': None}, {'name': 'Michael', 'score': 0, 'strategy': None})\n",
      "({'name': 'Peter', 'score': 0, 'strategy': None}, {'name': 'Elizabeth', 'score': 0, 'strategy': None})\n",
      "({'name': 'Peter', 'score': 0, 'strategy': None}, {'name': 'Kate', 'score': 0, 'strategy': None})\n",
      "({'name': 'Peter', 'score': 0, 'strategy': None}, {'name': 'Daniel', 'score': 0, 'strategy': None})\n",
      "({'name': 'Peter', 'score': 0, 'strategy': None}, {'name': 'Mackenzie', 'score': 0, 'strategy': None})\n",
      "({'name': 'Peter', 'score': 0, 'strategy': None}, {'name': 'Wilbur', 'score': 0, 'strategy': None})\n",
      "({'name': 'Peter', 'score': 0, 'strategy': None}, {'name': 'Mary', 'score': 0, 'strategy': None})\n",
      "({'name': 'Michael', 'score': 0, 'strategy': None}, {'name': 'Elizabeth', 'score': 0, 'strategy': None})\n",
      "({'name': 'Michael', 'score': 0, 'strategy': None}, {'name': 'Kate', 'score': 0, 'strategy': None})\n",
      "({'name': 'Michael', 'score': 0, 'strategy': None}, {'name': 'Daniel', 'score': 0, 'strategy': None})\n",
      "({'name': 'Michael', 'score': 0, 'strategy': None}, {'name': 'Mackenzie', 'score': 0, 'strategy': None})\n",
      "({'name': 'Michael', 'score': 0, 'strategy': None}, {'name': 'Wilbur', 'score': 0, 'strategy': None})\n",
      "({'name': 'Michael', 'score': 0, 'strategy': None}, {'name': 'Mary', 'score': 0, 'strategy': None})\n",
      "({'name': 'Elizabeth', 'score': 0, 'strategy': None}, {'name': 'Kate', 'score': 0, 'strategy': None})\n",
      "({'name': 'Elizabeth', 'score': 0, 'strategy': None}, {'name': 'Daniel', 'score': 0, 'strategy': None})\n",
      "({'name': 'Elizabeth', 'score': 0, 'strategy': None}, {'name': 'Mackenzie', 'score': 0, 'strategy': None})\n",
      "({'name': 'Elizabeth', 'score': 0, 'strategy': None}, {'name': 'Wilbur', 'score': 0, 'strategy': None})\n",
      "({'name': 'Elizabeth', 'score': 0, 'strategy': None}, {'name': 'Mary', 'score': 0, 'strategy': None})\n",
      "({'name': 'Kate', 'score': 0, 'strategy': None}, {'name': 'Daniel', 'score': 0, 'strategy': None})\n",
      "({'name': 'Kate', 'score': 0, 'strategy': None}, {'name': 'Mackenzie', 'score': 0, 'strategy': None})\n",
      "({'name': 'Kate', 'score': 0, 'strategy': None}, {'name': 'Wilbur', 'score': 0, 'strategy': None})\n",
      "({'name': 'Kate', 'score': 0, 'strategy': None}, {'name': 'Mary', 'score': 0, 'strategy': None})\n",
      "({'name': 'Daniel', 'score': 0, 'strategy': None}, {'name': 'Mackenzie', 'score': 0, 'strategy': None})\n",
      "({'name': 'Daniel', 'score': 0, 'strategy': None}, {'name': 'Wilbur', 'score': 0, 'strategy': None})\n",
      "({'name': 'Daniel', 'score': 0, 'strategy': None}, {'name': 'Mary', 'score': 0, 'strategy': None})\n",
      "({'name': 'Mackenzie', 'score': 0, 'strategy': None}, {'name': 'Wilbur', 'score': 0, 'strategy': None})\n",
      "({'name': 'Mackenzie', 'score': 0, 'strategy': None}, {'name': 'Mary', 'score': 0, 'strategy': None})\n",
      "({'name': 'Wilbur', 'score': 0, 'strategy': None}, {'name': 'Mary', 'score': 0, 'strategy': None})\n"
     ]
    }
   ],
   "source": [
    "import itertools \n",
    "\n",
    "# pair is a tuple of dicts\n",
    "for pair in itertools.combinations(society,2):\n",
    "    print(pair)"
   ]
  },
  {
   "cell_type": "code",
   "execution_count": 9,
   "id": "a3f7ad9e",
   "metadata": {
    "scrolled": true
   },
   "outputs": [
    {
     "name": "stdout",
     "output_type": "stream",
     "text": [
      "{'name': 'John', 'score': 0, 'strategy': None} {'name': 'Mia', 'score': 0, 'strategy': None}\n",
      "{'name': 'John', 'score': 0, 'strategy': None} {'name': 'Peter', 'score': 0, 'strategy': None}\n",
      "{'name': 'John', 'score': 0, 'strategy': None} {'name': 'Michael', 'score': 0, 'strategy': None}\n",
      "{'name': 'John', 'score': 0, 'strategy': None} {'name': 'Elizabeth', 'score': 0, 'strategy': None}\n",
      "{'name': 'John', 'score': 0, 'strategy': None} {'name': 'Kate', 'score': 0, 'strategy': None}\n",
      "{'name': 'John', 'score': 0, 'strategy': None} {'name': 'Daniel', 'score': 0, 'strategy': None}\n",
      "{'name': 'John', 'score': 0, 'strategy': None} {'name': 'Mackenzie', 'score': 0, 'strategy': None}\n",
      "{'name': 'John', 'score': 0, 'strategy': None} {'name': 'Wilbur', 'score': 0, 'strategy': None}\n",
      "{'name': 'John', 'score': 0, 'strategy': None} {'name': 'Mary', 'score': 0, 'strategy': None}\n",
      "{'name': 'Mia', 'score': 0, 'strategy': None} {'name': 'Peter', 'score': 0, 'strategy': None}\n",
      "{'name': 'Mia', 'score': 0, 'strategy': None} {'name': 'Michael', 'score': 0, 'strategy': None}\n",
      "{'name': 'Mia', 'score': 0, 'strategy': None} {'name': 'Elizabeth', 'score': 0, 'strategy': None}\n",
      "{'name': 'Mia', 'score': 0, 'strategy': None} {'name': 'Kate', 'score': 0, 'strategy': None}\n",
      "{'name': 'Mia', 'score': 0, 'strategy': None} {'name': 'Daniel', 'score': 0, 'strategy': None}\n",
      "{'name': 'Mia', 'score': 0, 'strategy': None} {'name': 'Mackenzie', 'score': 0, 'strategy': None}\n",
      "{'name': 'Mia', 'score': 0, 'strategy': None} {'name': 'Wilbur', 'score': 0, 'strategy': None}\n",
      "{'name': 'Mia', 'score': 0, 'strategy': None} {'name': 'Mary', 'score': 0, 'strategy': None}\n",
      "{'name': 'Peter', 'score': 0, 'strategy': None} {'name': 'Michael', 'score': 0, 'strategy': None}\n",
      "{'name': 'Peter', 'score': 0, 'strategy': None} {'name': 'Elizabeth', 'score': 0, 'strategy': None}\n",
      "{'name': 'Peter', 'score': 0, 'strategy': None} {'name': 'Kate', 'score': 0, 'strategy': None}\n",
      "{'name': 'Peter', 'score': 0, 'strategy': None} {'name': 'Daniel', 'score': 0, 'strategy': None}\n",
      "{'name': 'Peter', 'score': 0, 'strategy': None} {'name': 'Mackenzie', 'score': 0, 'strategy': None}\n",
      "{'name': 'Peter', 'score': 0, 'strategy': None} {'name': 'Wilbur', 'score': 0, 'strategy': None}\n",
      "{'name': 'Peter', 'score': 0, 'strategy': None} {'name': 'Mary', 'score': 0, 'strategy': None}\n",
      "{'name': 'Michael', 'score': 0, 'strategy': None} {'name': 'Elizabeth', 'score': 0, 'strategy': None}\n",
      "{'name': 'Michael', 'score': 0, 'strategy': None} {'name': 'Kate', 'score': 0, 'strategy': None}\n",
      "{'name': 'Michael', 'score': 0, 'strategy': None} {'name': 'Daniel', 'score': 0, 'strategy': None}\n",
      "{'name': 'Michael', 'score': 0, 'strategy': None} {'name': 'Mackenzie', 'score': 0, 'strategy': None}\n",
      "{'name': 'Michael', 'score': 0, 'strategy': None} {'name': 'Wilbur', 'score': 0, 'strategy': None}\n",
      "{'name': 'Michael', 'score': 0, 'strategy': None} {'name': 'Mary', 'score': 0, 'strategy': None}\n",
      "{'name': 'Elizabeth', 'score': 0, 'strategy': None} {'name': 'Kate', 'score': 0, 'strategy': None}\n",
      "{'name': 'Elizabeth', 'score': 0, 'strategy': None} {'name': 'Daniel', 'score': 0, 'strategy': None}\n",
      "{'name': 'Elizabeth', 'score': 0, 'strategy': None} {'name': 'Mackenzie', 'score': 0, 'strategy': None}\n",
      "{'name': 'Elizabeth', 'score': 0, 'strategy': None} {'name': 'Wilbur', 'score': 0, 'strategy': None}\n",
      "{'name': 'Elizabeth', 'score': 0, 'strategy': None} {'name': 'Mary', 'score': 0, 'strategy': None}\n",
      "{'name': 'Kate', 'score': 0, 'strategy': None} {'name': 'Daniel', 'score': 0, 'strategy': None}\n",
      "{'name': 'Kate', 'score': 0, 'strategy': None} {'name': 'Mackenzie', 'score': 0, 'strategy': None}\n",
      "{'name': 'Kate', 'score': 0, 'strategy': None} {'name': 'Wilbur', 'score': 0, 'strategy': None}\n",
      "{'name': 'Kate', 'score': 0, 'strategy': None} {'name': 'Mary', 'score': 0, 'strategy': None}\n",
      "{'name': 'Daniel', 'score': 0, 'strategy': None} {'name': 'Mackenzie', 'score': 0, 'strategy': None}\n",
      "{'name': 'Daniel', 'score': 0, 'strategy': None} {'name': 'Wilbur', 'score': 0, 'strategy': None}\n",
      "{'name': 'Daniel', 'score': 0, 'strategy': None} {'name': 'Mary', 'score': 0, 'strategy': None}\n",
      "{'name': 'Mackenzie', 'score': 0, 'strategy': None} {'name': 'Wilbur', 'score': 0, 'strategy': None}\n",
      "{'name': 'Mackenzie', 'score': 0, 'strategy': None} {'name': 'Mary', 'score': 0, 'strategy': None}\n",
      "{'name': 'Wilbur', 'score': 0, 'strategy': None} {'name': 'Mary', 'score': 0, 'strategy': None}\n"
     ]
    }
   ],
   "source": [
    "import itertools \n",
    "\n",
    "# each dict\n",
    "for player1,player2 in itertools.combinations(society,2):\n",
    "    print(player1,player2)"
   ]
  },
  {
   "cell_type": "code",
   "execution_count": 10,
   "id": "cfb643dd",
   "metadata": {
    "scrolled": false
   },
   "outputs": [],
   "source": [
    "# resetting society\n",
    "society=[{'name':n,'score':0,'strategy':None} for n in names]\n",
    "\n",
    "# several rounds\n",
    "for aRound in range(100):\n",
    "          \n",
    "    # en each round:\n",
    "    for player1,player2 in itertools.combinations(society,2):\n",
    "        # each chooses strategy\n",
    "        player1['strategy']=choice(strategy)\n",
    "        \n",
    "        player2['strategy']=choice(strategy)\n",
    "                \n",
    "        # result from strategy chosen\n",
    "        result=payoff[player1['strategy'],player2['strategy']]\n",
    "            \n",
    "        # update scores\n",
    "        player1['score']+=result[0]\n",
    "        player2['score']+=result[1]"
   ]
  },
  {
   "cell_type": "code",
   "execution_count": 11,
   "id": "4ca0a7ef",
   "metadata": {},
   "outputs": [
    {
     "data": {
      "text/plain": [
       "[{'name': 'John', 'score': 339, 'strategy': 'Paper'},\n",
       " {'name': 'Mia', 'score': 356, 'strategy': 'Spock'},\n",
       " {'name': 'Peter', 'score': 359, 'strategy': 'Spock'},\n",
       " {'name': 'Michael', 'score': 376, 'strategy': 'Paper'},\n",
       " {'name': 'Elizabeth', 'score': 376, 'strategy': 'Spock'},\n",
       " {'name': 'Kate', 'score': 344, 'strategy': 'Paper'},\n",
       " {'name': 'Daniel', 'score': 359, 'strategy': 'Lizard'},\n",
       " {'name': 'Mackenzie', 'score': 338, 'strategy': 'Rock'},\n",
       " {'name': 'Wilbur', 'score': 363, 'strategy': 'Spock'},\n",
       " {'name': 'Mary', 'score': 383, 'strategy': 'Scissors'}]"
      ]
     },
     "execution_count": 11,
     "metadata": {},
     "output_type": "execute_result"
    }
   ],
   "source": [
    "# final situation\n",
    "society"
   ]
  }
 ],
 "metadata": {
  "kernelspec": {
   "display_name": "Python 3 (ipykernel)",
   "language": "python",
   "name": "python3"
  },
  "language_info": {
   "codemirror_mode": {
    "name": "ipython",
    "version": 3
   },
   "file_extension": ".py",
   "mimetype": "text/x-python",
   "name": "python",
   "nbconvert_exporter": "python",
   "pygments_lexer": "ipython3",
   "version": "3.11.7"
  }
 },
 "nbformat": 4,
 "nbformat_minor": 5
}
